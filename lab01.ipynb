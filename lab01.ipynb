{
 "cells": [
  {
   "cell_type": "markdown",
   "metadata": {},
   "source": [
    "## Lab 01"
   ]
  },
  {
   "cell_type": "markdown",
   "metadata": {},
   "source": [
    "### Rozgrzewka (zalecana dla początkujących)"
   ]
  },
  {
   "cell_type": "markdown",
   "metadata": {},
   "source": [
    "a) Korzystając z ```virtualenv``` przygotuj wirtualne środowisko uruchomieniowe ([Wirtualne środowisko uruchomieniowe Pythona](http://blog.fizyk.net.pl/pl/blog/wirtualne-srodowisko-uruchomieniowe-pythona.html))."
   ]
  },
  {
   "cell_type": "markdown",
   "metadata": {},
   "source": [
    "b) Korzystając z ```pip``` zainstaluj pakiet ```roman``` i przetestuj go."
   ]
  },
  {
   "cell_type": "markdown",
   "metadata": {},
   "source": [
    "Jeśli są z tym problemy wykorzystaj [tooooo](https://www.google.pl/search?q=python+online+interpreter&oq=python+online+&aqs=chrome.2.69i57j0l5.4406j0j7&sourceid=chrome&ie=UTF-80)"
   ]
  },
  {
   "cell_type": "markdown",
   "metadata": {
    "collapsed": true
   },
   "source": [
    "### Zadanie 1"
   ]
  },
  {
   "cell_type": "markdown",
   "metadata": {},
   "source": [
    "Zaimplementuj poniższe funkcje, tak żeby dołączone testy przechodziły. Polecenia znajdują się w docstringach pod deklaracją funkcji."
   ]
  },
  {
   "cell_type": "code",
   "execution_count": 2,
   "metadata": {},
   "outputs": [
    {
     "name": "stdout",
     "output_type": "stream",
     "text": [
      "True\n",
      "True\n",
      "True\n"
     ]
    }
   ],
   "source": [
    "def avg(input):\n",
    "    \"\"\"Funkcja powinna zwrócić średnią arytmetyczną elementów na liście 'input'\"\"\"\n",
    "    return sum(input) / len(input)\n",
    "\n",
    "print(avg([2,2,2,2,2,2]) - 2 < 0.0000001)\n",
    "print(avg([4, 6, 55, 18, 17, 12]) - 18.666666666666668 < 0.0000001)\n",
    "print(avg([86, 89, 24, 45, 62, 17, 61, 63, 30, 13]) - 49 < 0.0000001)"
   ]
  },
  {
   "cell_type": "code",
   "execution_count": 10,
   "metadata": {},
   "outputs": [
    {
     "name": "stdout",
     "output_type": "stream",
     "text": [
      "True\n",
      "True\n",
      "True\n",
      "True\n"
     ]
    }
   ],
   "source": [
    "def even_list(n):\n",
    "    \"\"\"Funkcja powinna zwrocic liste liczb parzystych <= n\"\"\"\n",
    "    if n <= 0:\n",
    "        return []\n",
    "    return [x for x in range(2, n+1, 2)]\n",
    "\n",
    "print(even_list(1) == [])\n",
    "print(even_list(2) == [2])\n",
    "print(even_list(-5) == [])\n",
    "print(even_list(7) == [2,4,6])"
   ]
  },
  {
   "cell_type": "code",
   "execution_count": 12,
   "metadata": {
    "collapsed": true
   },
   "outputs": [
    {
     "name": "stdout",
     "output_type": "stream",
     "text": [
      "True\n",
      "True\n",
      "True\n"
     ]
    }
   ],
   "source": [
    "def sum_of_squares(n): \n",
    "    \"\"\" Funkcja powinna zwrócić sumę kwadratów liczb od 1 do n włącznie \"\"\"\n",
    "    return sum([x**2 for x in range(1, n+1)])\n",
    "\n",
    "print(sum_of_squares(1) == 1)\n",
    "print(sum_of_squares(3) == 14)\n",
    "print(sum_of_squares(10) == 385)"
   ]
  },
  {
   "cell_type": "code",
   "execution_count": 14,
   "metadata": {
    "collapsed": true
   },
   "outputs": [
    {
     "name": "stdout",
     "output_type": "stream",
     "text": [
      "True\n",
      "True\n",
      "True\n"
     ]
    }
   ],
   "source": [
    "def sum_of_multiples(k, n=101):\n",
    "    \"\"\" Funckja powinna zwrócić sume wszystkich dodatnich wieloktrotności parametru k mniejszych niż n \"\"\"\n",
    "    return sum([x for x in range(k, n, k)])\n",
    "\n",
    "print(sum_of_multiples(5) == 1050)\n",
    "print(sum_of_multiples(17) == 255)\n",
    "print(sum_of_multiples(69) == 69)"
   ]
  },
  {
   "cell_type": "code",
   "execution_count": 15,
   "metadata": {
    "collapsed": true
   },
   "outputs": [
    {
     "name": "stdout",
     "output_type": "stream",
     "text": [
      "True\n",
      "True\n",
      "True\n"
     ]
    }
   ],
   "source": [
    "def primes_less_than(n):\n",
    "    \"\"\" Funkcja powinna zwrócić liste liczb pierwszych mniejszych od n \"\"\"\n",
    "    if n < 2:\n",
    "        return []\n",
    "    primes = []\n",
    "    for i in range(2, n):\n",
    "        for j in range(2, i):\n",
    "            if i % j == 0:\n",
    "                break\n",
    "        else:\n",
    "            primes.append(i)\n",
    "    return primes\n",
    "            \n",
    "print(primes_less_than(5) == [2,3])\n",
    "print(primes_less_than(10) == [2,3,5,7])\n",
    "print(primes_less_than(20) == [2, 3, 5, 7, 11, 13, 17, 19])"
   ]
  },
  {
   "cell_type": "code",
   "execution_count": 16,
   "metadata": {
    "collapsed": true
   },
   "outputs": [
    {
     "name": "stdout",
     "output_type": "stream",
     "text": [
      "True\n",
      "True\n",
      "True\n",
      "True\n"
     ]
    }
   ],
   "source": [
    "def is_palindrome(word):\n",
    "    \"\"\" Funkcja sprawdza czy *word* jest palindromem \"\"\"\n",
    "    return word == word[::-1]\n",
    "\n",
    "print(is_palindrome('ala') == True)\n",
    "print(is_palindrome('ananas') == False)\n",
    "print(is_palindrome('ananasa') == False)\n",
    "print(is_palindrome('tomek') == False)"
   ]
  },
  {
   "cell_type": "code",
   "execution_count": 17,
   "metadata": {
    "collapsed": true
   },
   "outputs": [
    {
     "name": "stdout",
     "output_type": "stream",
     "text": [
      "True\n",
      "True\n",
      "True\n",
      "True\n"
     ]
    }
   ],
   "source": [
    "def how_many_different_letters(word):\n",
    "    \"\"\" Zwraca liczbę unikalnych znaków w słowie. Możemy założyć, że słowo składa się z małych liter alfabetu angielskiego \"\"\"\n",
    "    return len(set(word))\n",
    "\n",
    "print(how_many_different_letters('tomek') == 5)\n",
    "print(how_many_different_letters('ala') == 2)\n",
    "print(how_many_different_letters('ananas') == 3)\n",
    "print(how_many_different_letters('jola') == 4)"
   ]
  },
  {
   "cell_type": "code",
   "execution_count": 19,
   "metadata": {
    "collapsed": true
   },
   "outputs": [
    {
     "name": "stdout",
     "output_type": "stream",
     "text": [
      "<table style=\"table-layout: fixed; height: 90px; width: 90px;\">\n",
      "<tr>\n",
      "<td style='border: 1px solid black; width: 30px; height: 30px; text-align: center;'>X</td>\n",
      "<td style='border: 1px solid black; width: 30px; height: 30px; text-align: center;'></td>\n",
      "<td style='border: 1px solid black; width: 30px; height: 30px; text-align: center;'>O</td>\n",
      "</tr>\n",
      "<tr>\n",
      "<td style='border: 1px solid black; width: 30px; height: 30px; text-align: center;'></td>\n",
      "<td style='border: 1px solid black; width: 30px; height: 30px; text-align: center;'>X</td>\n",
      "<td style='border: 1px solid black; width: 30px; height: 30px; text-align: center;'></td>\n",
      "</tr>\n",
      "<tr>\n",
      "<td style='border: 1px solid black; width: 30px; height: 30px; text-align: center;'>O</td>\n",
      "<td style='border: 1px solid black; width: 30px; height: 30px; text-align: center;'></td>\n",
      "<td style='border: 1px solid black; width: 30px; height: 30px; text-align: center;'>O</td>\n",
      "</tr>\n",
      "</table>\n"
     ]
    }
   ],
   "source": [
    "def list_to_table(word):\n",
    "    \"\"\" Funkcja przyjmuje 9-elementową liste i na jej podstawie tworzy stringa z HTMLową tabelą orzmiaru 3x3 \n",
    "    reprezentującą plansze do gry w kółko i krzyżyk\"\"\"\n",
    "    board = '<table style=\"table-layout: fixed; height: 90px; width: 90px;\">'\n",
    "    \n",
    "    for i in range(0, 9, 3):\n",
    "        board += \"\\n<tr>\"\n",
    "        for j in range(3):\n",
    "            board += f\"\\n<td style='border: 1px solid black; width: 30px; height: 30px; text-align: center;'>{word[i+j]}</td>\"\n",
    "        board += \"\\n</tr>\"\n",
    "    \n",
    "    board += \"\\n</table>\"\n",
    "    return board\n",
    "\n",
    "print(list_to_table(['X', '', 'O', '', 'X', '', 'O', '', 'O']))"
   ]
  },
  {
   "cell_type": "markdown",
   "metadata": {},
   "source": [
    "<table style=\"table-layout: fixed; height: 90px; width: 90px;\">\n",
    "  <tr>\n",
    "    <td>X</td>\n",
    "    <td> </td> \n",
    "    <td>O</td>\n",
    "  </tr>\n",
    "  <tr>\n",
    "    <td></td>\n",
    "    <td>X</td> \n",
    "    <td></td>\n",
    "  </tr>\n",
    "  <tr>\n",
    "    <td>O</td>\n",
    "    <td></td> \n",
    "    <td>O</td>\n",
    "  </tr>\n",
    "</table>"
   ]
  },
  {
   "cell_type": "code",
   "execution_count": 20,
   "metadata": {
    "collapsed": true
   },
   "outputs": [
    {
     "name": "stdout",
     "output_type": "stream",
     "text": [
      "True\n",
      "True\n",
      "True\n"
     ]
    },
    {
     "ename": "KeyboardInterrupt",
     "evalue": "",
     "output_type": "error",
     "traceback": [
      "\u001b[0;31m---------------------------------------------------------------------------\u001b[0m",
      "\u001b[0;31mKeyboardInterrupt\u001b[0m                         Traceback (most recent call last)",
      "Cell \u001b[0;32mIn[20], line 17\u001b[0m\n\u001b[1;32m     15\u001b[0m \u001b[38;5;28mprint\u001b[39m(zaprzyjaznione(\u001b[38;5;241m300\u001b[39m) \u001b[38;5;241m==\u001b[39m [(\u001b[38;5;241m220\u001b[39m, \u001b[38;5;241m284\u001b[39m)])\n\u001b[1;32m     16\u001b[0m \u001b[38;5;28mprint\u001b[39m(zaprzyjaznione(\u001b[38;5;241m2000\u001b[39m) \u001b[38;5;241m==\u001b[39m [(\u001b[38;5;241m220\u001b[39m, \u001b[38;5;241m284\u001b[39m), (\u001b[38;5;241m1184\u001b[39m, \u001b[38;5;241m1210\u001b[39m)])\n\u001b[0;32m---> 17\u001b[0m \u001b[38;5;28mprint\u001b[39m(zaprzyjaznione(\u001b[38;5;241m13000\u001b[39m) \u001b[38;5;241m==\u001b[39m [(\u001b[38;5;241m220\u001b[39m, \u001b[38;5;241m284\u001b[39m), (\u001b[38;5;241m1184\u001b[39m, \u001b[38;5;241m1210\u001b[39m),(\u001b[38;5;241m2620\u001b[39m, \u001b[38;5;241m2924\u001b[39m), (\u001b[38;5;241m5020\u001b[39m, \u001b[38;5;241m5564\u001b[39m), (\u001b[38;5;241m6232\u001b[39m, \u001b[38;5;241m6368\u001b[39m), (\u001b[38;5;241m10744\u001b[39m, \u001b[38;5;241m10856\u001b[39m), (\u001b[38;5;241m12285\u001b[39m, \u001b[38;5;241m14595\u001b[39m)])\n",
      "Cell \u001b[0;32mIn[20], line 10\u001b[0m, in \u001b[0;36mzaprzyjaznione\u001b[0;34m(n)\u001b[0m\n\u001b[1;32m      8\u001b[0m \u001b[38;5;28;01mfor\u001b[39;00m i \u001b[38;5;129;01min\u001b[39;00m \u001b[38;5;28mrange\u001b[39m(\u001b[38;5;241m1\u001b[39m, n\u001b[38;5;241m+\u001b[39m\u001b[38;5;241m1\u001b[39m):\n\u001b[1;32m      9\u001b[0m     \u001b[38;5;28;01mfor\u001b[39;00m j \u001b[38;5;129;01min\u001b[39;00m \u001b[38;5;28mrange\u001b[39m(i\u001b[38;5;241m+\u001b[39m\u001b[38;5;241m1\u001b[39m, n\u001b[38;5;241m+\u001b[39m\u001b[38;5;241m1\u001b[39m):\n\u001b[0;32m---> 10\u001b[0m         \u001b[38;5;28;01mif\u001b[39;00m sum_divisors(i) \u001b[38;5;241m==\u001b[39m j \u001b[38;5;129;01mand\u001b[39;00m sum_divisors(j) \u001b[38;5;241m==\u001b[39m i:\n\u001b[1;32m     11\u001b[0m             friends\u001b[38;5;241m.\u001b[39mappend((i, j))\n\u001b[1;32m     12\u001b[0m \u001b[38;5;28;01mreturn\u001b[39;00m friends\n",
      "Cell \u001b[0;32mIn[20], line 5\u001b[0m, in \u001b[0;36mzaprzyjaznione.<locals>.sum_divisors\u001b[0;34m(x)\u001b[0m\n\u001b[1;32m      4\u001b[0m \u001b[38;5;28;01mdef\u001b[39;00m \u001b[38;5;21msum_divisors\u001b[39m(x):\n\u001b[0;32m----> 5\u001b[0m     \u001b[38;5;28;01mreturn\u001b[39;00m \u001b[38;5;28msum\u001b[39m([i \u001b[38;5;28;01mfor\u001b[39;00m i \u001b[38;5;129;01min\u001b[39;00m \u001b[38;5;28mrange\u001b[39m(\u001b[38;5;241m1\u001b[39m, x) \u001b[38;5;28;01mif\u001b[39;00m x \u001b[38;5;241m%\u001b[39m i \u001b[38;5;241m==\u001b[39m \u001b[38;5;241m0\u001b[39m])\n",
      "Cell \u001b[0;32mIn[20], line 5\u001b[0m, in \u001b[0;36m<listcomp>\u001b[0;34m(.0)\u001b[0m\n\u001b[1;32m      4\u001b[0m \u001b[38;5;28;01mdef\u001b[39;00m \u001b[38;5;21msum_divisors\u001b[39m(x):\n\u001b[0;32m----> 5\u001b[0m     \u001b[38;5;28;01mreturn\u001b[39;00m \u001b[38;5;28msum\u001b[39m([i \u001b[38;5;28;01mfor\u001b[39;00m i \u001b[38;5;129;01min\u001b[39;00m \u001b[38;5;28mrange\u001b[39m(\u001b[38;5;241m1\u001b[39m, x) \u001b[38;5;28;01mif\u001b[39;00m x \u001b[38;5;241m%\u001b[39m i \u001b[38;5;241m==\u001b[39m \u001b[38;5;241m0\u001b[39m])\n",
      "\u001b[0;31mKeyboardInterrupt\u001b[0m: "
     ]
    }
   ],
   "source": [
    "# Funkcję zwraca listę par liczb zaprzyjaźnionych nie większych niż n\n",
    "# (zobacz: https://pl.wikipedia.org/wiki/Liczby_zaprzyja%C5%BAnione) \n",
    "def zaprzyjaznione(n):\n",
    "    def sum_divisors(x):\n",
    "        return sum([i for i in range(1, x) if x % i == 0])\n",
    "    \n",
    "    friends = []\n",
    "    for i in range(1, n+1):\n",
    "        for j in range(i+1, n+1):\n",
    "            if sum_divisors(i) == j and sum_divisors(j) == i:\n",
    "                friends.append((i, j))\n",
    "    return friends\n",
    "\n",
    "print(zaprzyjaznione(1) == [])\n",
    "print(zaprzyjaznione(300) == [(220, 284)])\n",
    "print(zaprzyjaznione(2000) == [(220, 284), (1184, 1210)])\n",
    "print(zaprzyjaznione(13000) == [(220, 284), (1184, 1210),(2620, 2924), (5020, 5564), (6232, 6368), (10744, 10856), (12285, 14595)])"
   ]
  },
  {
   "cell_type": "code",
   "execution_count": 21,
   "metadata": {},
   "outputs": [
    {
     "name": "stdout",
     "output_type": "stream",
     "text": [
      "True\n",
      "True\n",
      "True\n"
     ]
    }
   ],
   "source": [
    "def phi_euler(n):\n",
    "    \"\"\"Funkcja powinna zwrócić wartość funkcji phi Eulera\"\"\"\n",
    "    def gcd(a, b):\n",
    "        if a == 0:\n",
    "            return b\n",
    "        return gcd(b % a, a)\n",
    "    \n",
    "    def phi(n):\n",
    "        result = 1\n",
    "        for i in range(2, n):\n",
    "            if gcd(i, n) == 1:\n",
    "                result += 1\n",
    "        return result\n",
    "\n",
    "    return phi(n)\n",
    "\n",
    "print(phi_euler(6) == 2)\n",
    "print(phi_euler(64) == 32)\n",
    "print(phi_euler(97) == 96)"
   ]
  },
  {
   "cell_type": "markdown",
   "metadata": {},
   "source": [
    "### Zadanie 2"
   ]
  },
  {
   "cell_type": "markdown",
   "metadata": {},
   "source": [
    "Uzupełnij poniższe impementacje tak aby osiągnąć zbliczone czasy wykonania\n",
    "- `is_perfect`: 76.5 ms ± 5.79 ms per loop (mean ± std. dev. of 7 runs, 40 loops each)\n",
    "- `is_perfect2`: 73 ms ± 4 ms per loop (mean ± std. dev. of 7 runs, 40 loops each)"
   ]
  },
  {
   "cell_type": "code",
   "execution_count": 1,
   "metadata": {},
   "outputs": [],
   "source": [
    "def is_perfect(n):\n",
    "    \"\"\"\n",
    "    Funkcja powinna sprawdzać, czy dana liczba n jest doskonała\n",
    "    https://pl.wikipedia.org/wiki/Liczba_doskona%C5%82a\n",
    "    \"\"\"\n",
    "    divisors = [i for i in range(1, n) if n % i == 0]\n",
    "    return sum(divisors) == n"
   ]
  },
  {
   "cell_type": "code",
   "execution_count": 2,
   "metadata": {},
   "outputs": [
    {
     "name": "stdout",
     "output_type": "stream",
     "text": [
      "True\n",
      "True\n",
      "True\n"
     ]
    }
   ],
   "source": [
    "print(is_perfect(6) is True)\n",
    "print(is_perfect(28) is True)\n",
    "print(is_perfect(7) is False)"
   ]
  },
  {
   "cell_type": "code",
   "execution_count": null,
   "metadata": {},
   "outputs": [],
   "source": [
    "def is_perfect2(n):\n",
    "    \"\"\"\n",
    "    Funkcja powinna sprawdzać, czy dana liczba n jest doskonała\n",
    "    https://pl.wikipedia.org/wiki/Liczba_doskona%C5%82a\n",
    "    \"\"\"\n",
    "    #nie wiem czy do końca zrozumiałem o co chodzi. To może być takie samo?\n",
    "    return is_perfect(n)"
   ]
  },
  {
   "cell_type": "code",
   "execution_count": 4,
   "metadata": {},
   "outputs": [
    {
     "name": "stdout",
     "output_type": "stream",
     "text": [
      "True\n",
      "True\n",
      "True\n"
     ]
    }
   ],
   "source": [
    "print(is_perfect2(6) is True)\n",
    "print(is_perfect2(28) is True)\n",
    "print(is_perfect2(7) is False)"
   ]
  },
  {
   "cell_type": "markdown",
   "metadata": {},
   "source": [
    "## Zadanie dodatkowe\n",
    "Można za nie zdobyć punkty z aktywności, równiez oddając je za tydzień.\n",
    "\n",
    "Dla zadanej tablicy o długości $n$ zawierającej liczby całkowite większe od zera. \n",
    "Chcemy znaleźć podtablice, że $m$ kolejnych elementów sumuje się do $d$.\n",
    "\n",
    "Napisz funkcję która dla danych $m$, $d$ i sekwencję liczb całkowitych większych od zera $tab$, wypisze na ile sposobów można stworzyć taką podtablice?\n",
    "\n",
    "Przykładowo, niech $m=2$, $d=3$, a czekolada składa się z $tab = [1,2,1,3,2]$. Chcemy znaleźć takie dwa (bo m=2) elementy pod rząd, których suma da nam $d=3$. Jest to pierwszy i drugi element lub drugi i trzeci.\n",
    "\n",
    "\n",
    "**Napisz program, który działa w czasie liniowym.**"
   ]
  },
  {
   "cell_type": "code",
   "execution_count": null,
   "metadata": {
    "collapsed": true
   },
   "outputs": [],
   "source": [
    "def solve(d, m, tab):\n",
    "    pass  "
   ]
  },
  {
   "cell_type": "code",
   "execution_count": null,
   "metadata": {
    "collapsed": true
   },
   "outputs": [],
   "source": [
    "tab=[1, 2, 1, 3, 2]\n",
    "d=3 \n",
    "m=2\n",
    "tab1=[1, 1, 1, 1, 1, 1]\n",
    "d1=3 \n",
    "m1=2\n",
    "tab2=[4,1,3,4,1,1,1,1,1,1,1]\n",
    "d2=4 \n",
    "m2=4"
   ]
  },
  {
   "cell_type": "code",
   "execution_count": null,
   "metadata": {
    "collapsed": true
   },
   "outputs": [],
   "source": [
    "print(solve(d, m, tab)==2)\n",
    "print(solve(d1, m1, tab1)==0)\n",
    "print(solve(d2, m2, tab2)==4)"
   ]
  },
  {
   "cell_type": "markdown",
   "metadata": {},
   "source": [
    "## Zadanie dodatkowe 2\n",
    "Można za nie zdobyć punkty z aktywności, również oddając je za tydzień.\n",
    "\n",
    "Napisz definicję funkcji HowManyIntegers(N), która zwróci jak wiele liczb z zakresu [1,N) składa się wyłącznie z cyfr {0,2,7,9}. <br><br>\n",
    "Czyli np. <br>\n",
    "HowManyIntegers(1) = 0 <br>\n",
    "HowManyIntegers(10) = 3 # 2,7,9 <br>\n",
    "HowManyIntegers(28) = 6 # 2,7,9,20,22,27 <br>\n",
    "\n",
    "Twoje rozwiązanie powinno mieć jak najmniej niebiałych znaków. Czy uda się w 69? A może da się jeszcze mniej?"
   ]
  },
  {
   "cell_type": "code",
   "execution_count": 13,
   "metadata": {},
   "outputs": [
    {
     "name": "stdout",
     "output_type": "stream",
     "text": [
      "True\n",
      "True\n",
      "True\n"
     ]
    }
   ],
   "source": [
    "import re\n",
    "def HowManyIntegers(n):\n",
    "    return sum(1 for x in range(n) if re.match('^[0279]+$',str(x)))-1\n",
    "\n",
    "print(HowManyIntegers(1) == 0) \n",
    "print(HowManyIntegers(10) == 3) # 2,7,9 \n",
    "print(HowManyIntegers(28) == 6) # 2,7,9,20,22,27"
   ]
  },
  {
   "cell_type": "markdown",
   "metadata": {},
   "source": [
    "## Bonusy\n",
    "\n",
    "\"Dodatkowe\" pakiety Pythona"
   ]
  },
  {
   "cell_type": "code",
   "execution_count": 1,
   "metadata": {
    "collapsed": true
   },
   "outputs": [],
   "source": [
    "# flying\n",
    "import antigravity"
   ]
  },
  {
   "cell_type": "code",
   "execution_count": null,
   "metadata": {
    "collapsed": true
   },
   "outputs": [],
   "source": [
    "# PEP20\n",
    "import this"
   ]
  },
  {
   "cell_type": "code",
   "execution_count": null,
   "metadata": {
    "collapsed": true
   },
   "outputs": [],
   "source": [
    "# A poem\n",
    "love = this\n",
    "\n",
    "this is love, love is not True or False, love is love"
   ]
  },
  {
   "cell_type": "code",
   "execution_count": null,
   "metadata": {
    "collapsed": true
   },
   "outputs": [],
   "source": [
    "# Nie lubię wcięć, chce używać nawiasów {} do bloków kodu\n",
    "from __future__ import braces"
   ]
  }
 ],
 "metadata": {
  "kernelspec": {
   "display_name": "base",
   "language": "python",
   "name": "python3"
  },
  "language_info": {
   "codemirror_mode": {
    "name": "ipython",
    "version": 3
   },
   "file_extension": ".py",
   "mimetype": "text/x-python",
   "name": "python",
   "nbconvert_exporter": "python",
   "pygments_lexer": "ipython3",
   "version": "3.11.5"
  }
 },
 "nbformat": 4,
 "nbformat_minor": 2
}
