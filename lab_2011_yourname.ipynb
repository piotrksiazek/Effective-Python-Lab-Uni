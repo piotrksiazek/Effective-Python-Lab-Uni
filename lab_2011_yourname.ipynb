{
 "cells": [
  {
   "cell_type": "markdown",
   "metadata": {},
   "source": [
    "Przygotowanie do kolokwium. 30min czasu powinno być wystarczające."
   ]
  },
  {
   "cell_type": "markdown",
   "metadata": {},
   "source": [
    "Możecie przed przyszłym tygodniem zrobić jeszcze zestaw regexowy z githuba oraz przećwiczyć jedno zadanko z dekoratora."
   ]
  },
  {
   "cell_type": "code",
   "execution_count": null,
   "metadata": {},
   "outputs": [],
   "source": [
    "# imports\n",
    "from functools import reduce\n",
    "import re"
   ]
  },
  {
   "cell_type": "markdown",
   "metadata": {},
   "source": [
    "## String"
   ]
  },
  {
   "cell_type": "markdown",
   "metadata": {},
   "source": [
    "### Zad 1"
   ]
  },
  {
   "cell_type": "markdown",
   "metadata": {},
   "source": [
    "Mamy dwa stringi a, b. b jest dluższy od a o jeden znak i powstał w wyniku dodania tego znaku do a i pomieszaniu. Znajdź ten znak. Można spróbować w 1 linijce"
   ]
  },
  {
   "cell_type": "code",
   "execution_count": null,
   "metadata": {},
   "outputs": [],
   "source": [
    "def find_difference(a, b):\n",
    "    assert len(a) + 1 == len(b)\n",
    "    return ..."
   ]
  },
  {
   "cell_type": "code",
   "execution_count": null,
   "metadata": {},
   "outputs": [],
   "source": [
    "a = \"znajdzmnie\"\n",
    "b = \"ijndzxmaenz\"\n",
    "assert find_difference(a, b) == \"x\""
   ]
  },
  {
   "cell_type": "markdown",
   "metadata": {},
   "source": [
    "## List"
   ]
  },
  {
   "cell_type": "markdown",
   "metadata": {},
   "source": [
    "### Zad 2"
   ]
  },
  {
   "cell_type": "markdown",
   "metadata": {},
   "source": [
    "Wyprostuj listę. W jednej linii."
   ]
  },
  {
   "cell_type": "code",
   "execution_count": null,
   "metadata": {},
   "outputs": [],
   "source": [
    "def flatten_array(arr):\n",
    "    return ..."
   ]
  },
  {
   "cell_type": "code",
   "execution_count": null,
   "metadata": {},
   "outputs": [],
   "source": [
    "nested_list = [1, [2, 3, [4, 5]], [6, [7, 8]], 9, [10]]\n",
    "out = [1, 2, 3, 4, 5, 6, 7, 8, 9, 10]\n",
    "assert out == flatten_array(nested_list)"
   ]
  },
  {
   "cell_type": "markdown",
   "metadata": {},
   "source": [
    "## Algo"
   ]
  },
  {
   "cell_type": "markdown",
   "metadata": {},
   "source": [
    "### Zad 3"
   ]
  },
  {
   "cell_type": "markdown",
   "metadata": {},
   "source": [
    "Znajdź k-ty najmniejszy dzielnik liczby n. Zoptymalizuj kod - w najgorszej opcji O(n)"
   ]
  },
  {
   "cell_type": "code",
   "execution_count": null,
   "metadata": {},
   "outputs": [],
   "source": [
    "def find_kth_div(n, k):\n",
    "    pass"
   ]
  },
  {
   "cell_type": "code",
   "execution_count": null,
   "metadata": {},
   "outputs": [],
   "source": [
    "n, k = 12, 3\n",
    "out = 3\n",
    "assert out == find_kth_div(n, k) # [1,2,*3*,4,6,12]"
   ]
  },
  {
   "cell_type": "markdown",
   "metadata": {},
   "source": [
    "## Regex"
   ]
  },
  {
   "cell_type": "markdown",
   "metadata": {},
   "source": [
    "The backslash (\\) is used to escape characters so that they are treated as literal characters instead of special characters.\n",
    "\n",
    "The caret (^) is used to match the start of a string.\n",
    "\n",
    "The dollar sign ($) is used to match the end of a string.\n",
    "\n",
    "The period (.) is used to match any single character.\n",
    "\n",
    "The asterisk (*) is used to match zero or more characters.\n",
    "\n",
    "The plus sign (+) is used to match one or more characters.\n",
    "\n",
    "The question mark (?) is used to match zero or one character.\n",
    "\n",
    "The vertical bar (|) is used to match one of two characters.\n",
    "\n",
    "The square brackets ([ and ]) are used to match a character set."
   ]
  },
  {
   "cell_type": "markdown",
   "metadata": {},
   "source": [
    "### Example"
   ]
  },
  {
   "cell_type": "code",
   "execution_count": null,
   "metadata": {},
   "outputs": [],
   "source": [
    "# Sample text \n",
    "text = \"The price of the book is $45.99 and the price of the pen is $1.50. Is the price of this notebook 2,49zł correct?\" \n",
    "# Regular expression pattern to find all numbers (including decimals) \n",
    "pattern = r'\\d+\\.\\d+|\\d+' \n",
    "# Find all matches in the text \n",
    "matches = re.findall(pattern, text) \n",
    "# Print the matches print\n",
    "print(matches)"
   ]
  },
  {
   "cell_type": "markdown",
   "metadata": {},
   "source": [
    "### Rozgrzewka"
   ]
  },
  {
   "cell_type": "markdown",
   "metadata": {},
   "source": [
    "Co złapie poniższe wyrażenie? \n",
    "\n",
    "pattern = r'\\d+'\n",
    "\n",
    "spróbuj wykminić a potem sprawdź!"
   ]
  },
  {
   "cell_type": "code",
   "execution_count": null,
   "metadata": {},
   "outputs": [],
   "source": []
  },
  {
   "cell_type": "markdown",
   "metadata": {},
   "source": [
    "### Zad 4"
   ]
  },
  {
   "cell_type": "markdown",
   "metadata": {},
   "source": [
    "Znajdź taki pattern który wyłapuje słowa, które zaczynają się z dużej litery i mają conajmniej 2 znaki"
   ]
  },
  {
   "cell_type": "code",
   "execution_count": null,
   "metadata": {},
   "outputs": [],
   "source": [
    "def get_wordsstartingwithcapletter(data):\n",
    "    return ..."
   ]
  },
  {
   "cell_type": "code",
   "execution_count": null,
   "metadata": {},
   "outputs": [],
   "source": [
    "data = \"How you Doin m Y friend\"\n",
    "out = ['How', 'Doin']\n",
    "assert out == get_wordsstartingwithcapletter(data)"
   ]
  },
  {
   "cell_type": "markdown",
   "metadata": {},
   "source": [
    "Jeśli ostatni unit test nie przejdzie to postaraj się wrócić i naprawić. Ale nie ma dramy jak nie uda się."
   ]
  },
  {
   "cell_type": "markdown",
   "metadata": {},
   "source": [
    "### Zad 5"
   ]
  },
  {
   "cell_type": "markdown",
   "metadata": {},
   "source": [
    "Efektywnie wydobądź wszystkie liczby z tekstu używając regular expression i list comprehension. Załóź, że Twoje dane to lista stringów."
   ]
  },
  {
   "cell_type": "code",
   "execution_count": null,
   "metadata": {},
   "outputs": [],
   "source": [
    "def extract_nums(data):\n",
    "    return ..."
   ]
  },
  {
   "cell_type": "code",
   "execution_count": null,
   "metadata": {},
   "outputs": [],
   "source": [
    "text_data = [\n",
    "    \"Temperature: 23.5°C on Day 1\",\n",
    "    \"Pressure: 1013.25 hPa\",\n",
    "    \"Volume: 500ml with pH 7.4\"\n",
    "]\n",
    "out = [23.5, 1.0, 1013.25, 500.0, 7.4]\n",
    "assert out == extract_nums(text_data)"
   ]
  },
  {
   "cell_type": "code",
   "execution_count": null,
   "metadata": {},
   "outputs": [],
   "source": [
    "# PS: do not worry about:\n",
    "# extract_nums([\"1,000.50 and 2.5e3\"])"
   ]
  },
  {
   "cell_type": "markdown",
   "metadata": {},
   "source": [
    "### Zad 6"
   ]
  },
  {
   "cell_type": "markdown",
   "metadata": {},
   "source": [
    "Znajdź regex który wyłapuje polskie kody pocztowe których suma równa się 21\n",
    "\n",
    "https://pl.wikipedia.org/wiki/Kody_pocztowe_w_Polsce\n",
    "\n",
    "TLDR: dwie pierwsze cyfry potem myślnik potem trzy cyfry."
   ]
  },
  {
   "cell_type": "code",
   "execution_count": null,
   "metadata": {},
   "outputs": [],
   "source": [
    "def find_codeposts(data):\n",
    "    pass"
   ]
  },
  {
   "cell_type": "code",
   "execution_count": null,
   "metadata": {},
   "outputs": [],
   "source": [
    "some_codeposts = [\"12-345\", \"99-999\", \"21-123\", \"11-910\", \"03-918\"] \n",
    "valid_strings = find_codeposts(some_codeposts) \n",
    "print(valid_strings)"
   ]
  },
  {
   "cell_type": "markdown",
   "metadata": {},
   "source": [
    "## Tests"
   ]
  },
  {
   "cell_type": "code",
   "execution_count": null,
   "metadata": {},
   "outputs": [],
   "source": [
    "import unittest"
   ]
  },
  {
   "cell_type": "code",
   "execution_count": null,
   "metadata": {},
   "outputs": [],
   "source": [
    "class TestFindDifference(unittest.TestCase):\n",
    "\n",
    "    def test_single_character_difference(self):\n",
    "        self.assertEqual(find_difference(\"abcd\", \"abcde\"), \"e\")\n",
    "        self.assertEqual(find_difference(\"helloworld\", \"2lololhwedr\"), \"2\")\n",
    "        self.assertEqual(find_difference(\"helloworld\", \"woldloherlA\"), \"A\")\n",
    "\n",
    "    def test_different_order(self):\n",
    "        self.assertEqual(find_difference(\"abcd\", \"eabcd\"), \"e\")\n",
    "\n",
    "    def test_repeated_characters(self):\n",
    "        self.assertEqual(find_difference(\"aabbcc\", \"aabbccd\"), \"d\")\n",
    "\n",
    "    def test_empty_string(self):\n",
    "        self.assertEqual(find_difference(\"\", \"a\"), \"a\")\n",
    "\n",
    "    def test_special_characters(self):\n",
    "        self.assertEqual(find_difference(\"!@#\", \"!@#$\"), \"$\")\n",
    "\n",
    "    def test_given_test(self):\n",
    "        self.assertEqual(find_difference(\"znajdzmnie\", \"midxnenazjz\"), \"x\")\n",
    "        self.assertEqual(find_difference(\"znajdzmnie\", \"midnenazjzx\"), \"x\")\n",
    "        self.assertEqual(find_difference(\"znajdzmnie\", \"znjemxnidza\"), \"x\")\n",
    "        self.assertEqual(find_difference(\"znajdzmnie\", \"xznjemnidza\"), \"x\")\n"
   ]
  },
  {
   "cell_type": "code",
   "execution_count": null,
   "metadata": {},
   "outputs": [],
   "source": [
    "class TestFlattenFunction(unittest.TestCase):\n",
    "\n",
    "    def test_flatten_simple(self):\n",
    "        self.assertEqual(flatten_array([1, 2, 3]), [1, 2, 3])\n",
    "\n",
    "    def test_flatten_nested(self):\n",
    "        self.assertEqual(flatten_array([1, [2, 3], 4]), [1, 2, 3, 4])\n",
    "\n",
    "    def test_flatten_deeply_nested(self):\n",
    "        self.assertEqual(flatten_array([1, [2, [3, [4, 5]]], 6]), [1, 2, 3, 4, 5, 6])\n",
    "\n",
    "    def test_flatten_empty_list(self):\n",
    "        self.assertEqual(flatten_array([]), [])\n",
    "\n",
    "    def test_flatten_mixed_types(self):\n",
    "        self.assertEqual(flatten_array([1, 'a', [2, 'b', [3, 'c']]]), [1, 'a', 2, 'b', 3, 'c'])"
   ]
  },
  {
   "cell_type": "code",
   "execution_count": null,
   "metadata": {},
   "outputs": [],
   "source": [
    "class TestFindKthDiv(unittest.TestCase):\n",
    "\n",
    "    def test_kth_divisor_provided(self):\n",
    "        self.assertEqual(find_kth_div(12, 1), 1)\n",
    "        self.assertEqual(find_kth_div(12, 2), 2)\n",
    "        self.assertEqual(find_kth_div(12, 3), 3)\n",
    "        self.assertEqual(find_kth_div(12, 4), 4)\n",
    "        self.assertEqual(find_kth_div(12, 5), 6)\n",
    "        self.assertEqual(find_kth_div(12, 6), 12)\n",
    "\n",
    "    def test_kth_divisor_does_not_exist(self):\n",
    "        self.assertEqual(find_kth_div(12, 7), -1)\n",
    "\n",
    "    def test_first_divisor(self):\n",
    "        self.assertEqual(find_kth_div(15, 1), 1)\n",
    "\n",
    "    def test_last_divisor(self):\n",
    "        self.assertEqual(find_kth_div(15, 4), 15)\n",
    "\n",
    "    def test_prime_number(self):\n",
    "        self.assertEqual(find_kth_div(13, 2), 13)\n",
    "\n",
    "    def test_large_number(self):\n",
    "        self.assertEqual(find_kth_div(100, 5), 10)\n",
    "\n",
    "    def test_single_divisor(self):\n",
    "        self.assertEqual(find_kth_div(1, 1), 1)\n",
    "\n",
    "    # def test_zero_divisor(self):\n",
    "    #     self.assertEqual(find_kth_div(0, 1), -1)"
   ]
  },
  {
   "cell_type": "code",
   "execution_count": null,
   "metadata": {},
   "outputs": [],
   "source": [
    "class TestGetWordsStartingWithCapLetter(unittest.TestCase):\n",
    "\n",
    "    def test_single_word(self):\n",
    "        self.assertEqual(get_wordsstartingwithcapletter(\"Hello world\"), [\"Hello\"])\n",
    "\n",
    "    def test_multiple_words(self):\n",
    "        self.assertEqual(get_wordsstartingwithcapletter(\"Hello World from Python\"), [\"Hello\", \"World\", \"Python\"])\n",
    "\n",
    "    def test_no_capital_words(self):\n",
    "        self.assertEqual(get_wordsstartingwithcapletter(\"hello world\"), [])\n",
    "\n",
    "    def test_mixed_case_words(self):\n",
    "        self.assertEqual(get_wordsstartingwithcapletter(\"hello World from python\"), [\"World\"])\n",
    "\n",
    "    def test_special_characters(self):\n",
    "        self.assertEqual(get_wordsstartingwithcapletter(\"Hello, World! This is a Test.\"), [\"Hello\", \"World\", \"This\", \"Test\"])"
   ]
  },
  {
   "cell_type": "code",
   "execution_count": null,
   "metadata": {},
   "outputs": [],
   "source": [
    "class TestExtractNums(unittest.TestCase):\n",
    "\n",
    "    def test_single_number(self):\n",
    "        self.assertEqual(extract_nums([\"The price is 45.99\"]), [45.99])\n",
    "\n",
    "    def test_multiple_numbers(self):\n",
    "        self.assertEqual(extract_nums([\"The temperatures are 23.5, 18.2, and 30.0\"]), [23.5, 18.2, 30.0])\n",
    "\n",
    "    def test_negative_numbers(self):\n",
    "        self.assertEqual(extract_nums([\"The values are -10, -20.5, and 30\"]), [-10.0, -20.5, 30.0])\n",
    "\n",
    "    def test_no_numbers(self):\n",
    "        self.assertEqual(extract_nums([\"No numbers here!\"]), [])\n",
    "\n",
    "    def test_mixed_text(self):\n",
    "        self.assertEqual(extract_nums([\"The price is $45.99 and the discount is 5.5%\"]), [45.99, 5.5])\n",
    "\n",
    "    def test_numbers_with_units(self):\n",
    "        self.assertEqual(extract_nums([\"Height: 180cm, Weight: 75kg\"]), [180.0, 75.0])\n",
    "\n",
    "    # def test_numbers_in_different_formats(self):\n",
    "    #     self.assertEqual(extract_nums([\"1,000.50 and 2.5e3\"]), [1000.50, 2.5])\n",
    "\n",
    "    def test_numbers_with_spaces(self):\n",
    "        self.assertEqual(extract_nums([\"The values are  10  ,  20.5  , and  30\"]), [10.0, 20.5, 30.0])\n",
    "\n",
    "    def test_numbers_with_special_characters(self):\n",
    "        self.assertEqual(extract_nums([\"The values are $10.5, €20.75, and £30.00\"]), [10.5, 20.75, 30.0])\n",
    "\n",
    "    def test_empty_string(self):\n",
    "        self.assertEqual(extract_nums([\"\"]), [])\n"
   ]
  },
  {
   "cell_type": "code",
   "execution_count": null,
   "metadata": {},
   "outputs": [],
   "source": [
    "class TestFindCodepostsStrings(unittest.TestCase):\n",
    "\n",
    "    def test_invalid(self):\n",
    "        self.assertEqual(find_codeposts([\"123-45\"]), [])\n",
    "        self.assertEqual(find_codeposts([\"abc-def\", \"12-34a\", \"123-45\"]), [])\n",
    "\n",
    "    def test_sum_21(self):\n",
    "        self.assertEqual(find_codeposts([\"72-345\"]), [\"72-345\"])\n",
    "\n",
    "    def test_sum_not_21(self):\n",
    "        self.assertEqual(find_codeposts([\"12-344\"]), [])\n",
    "\n",
    "    def test_multiple_valid_strings(self):\n",
    "        self.assertEqual(find_codeposts([\"12-345\", \"21-123\", \"03-918\"]), [\"03-918\"])\n",
    "\n",
    "    def test_mixed_valid_and_invalid(self):\n",
    "        self.assertEqual(find_codeposts([\"1234-5\", \"12-345\", \"039-18\", \"03-918\", \"21-123\"]), [\"03-918\"])\n",
    "\n",
    "    def test_empty_list(self):\n",
    "        self.assertEqual(find_codeposts([]), [])\n",
    "\n",
    "    def test_no_valid_strings(self):\n",
    "        self.assertEqual(find_codeposts([\"99999\", \"8888-8\"]), [])\n",
    "\n",
    "    def test_special_characters(self):\n",
    "        self.assertEqual(find_codeposts([\"12-345!\", \"21-123#\"]), [])\n",
    "\n",
    "    def test_leading_zeros(self):\n",
    "        self.assertEqual(find_codeposts([\"03-918\", \"00-921\"]), [\"03-918\"])"
   ]
  },
  {
   "cell_type": "code",
   "execution_count": null,
   "metadata": {},
   "outputs": [],
   "source": [
    "res = unittest.main(argv=[''], verbosity=3, exit=False)"
   ]
  },
  {
   "cell_type": "code",
   "execution_count": null,
   "metadata": {},
   "outputs": [],
   "source": []
  }
 ],
 "metadata": {
  "kernelspec": {
   "display_name": "standard",
   "language": "python",
   "name": "python3"
  },
  "language_info": {
   "codemirror_mode": {
    "name": "ipython",
    "version": 3
   },
   "file_extension": ".py",
   "mimetype": "text/x-python",
   "name": "python",
   "nbconvert_exporter": "python",
   "pygments_lexer": "ipython3",
   "version": "3.12.3"
  }
 },
 "nbformat": 4,
 "nbformat_minor": 2
}
