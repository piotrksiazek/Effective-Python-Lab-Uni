{
 "cells": [
  {
   "cell_type": "markdown",
   "metadata": {},
   "source": [
    "## Lab 03"
   ]
  },
  {
   "cell_type": "markdown",
   "metadata": {},
   "source": [
    "## Zadanie 1"
   ]
  },
  {
   "cell_type": "markdown",
   "metadata": {},
   "source": [
    "a) Napisz funkcję, która wypisuje wiadomość opcjonalnie wraz z podaną wartością"
   ]
  },
  {
   "cell_type": "code",
   "execution_count": 3,
   "metadata": {},
   "outputs": [
    {
     "name": "stdout",
     "output_type": "stream",
     "text": [
      "Hello World!\n",
      "The value is: 42\n"
     ]
    }
   ],
   "source": [
    "def log(message, value=None):\n",
    "    \" Wypisuje wiadomość opcjonalnie wraz z podaną wartością \"\n",
    "    print(f'{message}: {value}' if value else message)\n",
    "\n",
    "log(\"Hello World!\") # Hello World!\n",
    "log(\"The value is\", 42) # The value is: 42"
   ]
  },
  {
   "cell_type": "markdown",
   "metadata": {},
   "source": [
    "b) Napisz funkcję, która zwraca średnią z podanych liczb"
   ]
  },
  {
   "cell_type": "code",
   "execution_count": 4,
   "metadata": {},
   "outputs": [
    {
     "name": "stdout",
     "output_type": "stream",
     "text": [
      "True\n",
      "True\n",
      "True\n"
     ]
    }
   ],
   "source": [
    "def mean(*args):\n",
    "    \"\"\"Zwraca średnią liczb podanych jako argumenty pozycyjne\"\"\"\n",
    "    return sum(args) / len(args)\n",
    "\n",
    "print(mean(1,2,3) == 2)\n",
    "print(mean(2,2,4,4) == 3)\n",
    "print(mean(1,2,3,4,5,61,2,12,123,123) == 33.6)"
   ]
  },
  {
   "cell_type": "markdown",
   "metadata": {},
   "source": [
    "c) Napisz funkcję, która sprawdza, czy w danym słowniku znajduje się conajmniej podana liczba elementów"
   ]
  },
  {
   "cell_type": "code",
   "execution_count": null,
   "metadata": {},
   "outputs": [
    {
     "name": "stdout",
     "output_type": "stream",
     "text": [
      "True\n",
      "True\n",
      "True\n",
      "True\n",
      "True\n",
      "True\n"
     ]
    }
   ],
   "source": [
    "def check_dictionary_content(d, **kwargs):\n",
    "    \"\"\"Sprawdza, czy w danym słowniku znajduje się conajmniej podana liczba elementów\"\"\"\n",
    "    for key, value in kwargs.items():\n",
    "        if value == 0 and key not in d: #dosyć filozoficzny problem kota\n",
    "            continue\n",
    "        if key not in d or d[key] < value:\n",
    "            return False\n",
    "    return True\n",
    "\n",
    "d = {'orange': 3, 'apple': 1, 'dogs': 10}\n",
    "print(check_dictionary_content(d, orange=2) == True)\n",
    "print(check_dictionary_content(d, orange=2, apple=1) == True)\n",
    "print(check_dictionary_content(d, dogs=11) == False)\n",
    "print(check_dictionary_content(d, dogs=9, cats=0) == True)\n",
    "print(check_dictionary_content(d, apple=0, cats=1) == False)\n",
    "print(check_dictionary_content(d, **d) == True)"
   ]
  },
  {
   "cell_type": "markdown",
   "metadata": {},
   "source": [
    "## Zadanie 2\n",
    "Napisz funkcję która dla listy liczb zwróci listę częściowych udziałów w sumie tych liczb"
   ]
  },
  {
   "cell_type": "code",
   "execution_count": 11,
   "metadata": {},
   "outputs": [
    {
     "name": "stdout",
     "output_type": "stream",
     "text": [
      "True\n",
      "True\n",
      "True\n"
     ]
    }
   ],
   "source": [
    "def numbers_to_percents(values):\n",
    "    return [value/sum(values) for value in values]\n",
    "\n",
    "print(numbers_to_percents([1,2,1])==[0.25, 0.5, 0.25])\n",
    "print(numbers_to_percents([1])==[1])\n",
    "print(numbers_to_percents([1,2,3,4])==[0.1, 0.2, 0.3, 0.4])"
   ]
  },
  {
   "cell_type": "markdown",
   "metadata": {},
   "source": [
    "Co się stanie gdy jako wejście funkcji podamy generator? W jaki sposób możemy wykryć czy wejście jest listą czy iteratorem?"
   ]
  },
  {
   "cell_type": "code",
   "execution_count": 14,
   "metadata": {},
   "outputs": [
    {
     "name": "stdout",
     "output_type": "stream",
     "text": [
      "[0.0]\n",
      "to jest generator!\n"
     ]
    }
   ],
   "source": [
    "print(numbers_to_percents(i for i in range(5)))\n",
    "\n",
    "gen = (i for i in range(5))\n",
    "\n",
    "import types\n",
    "#możemy to zrobić za pomocą funkcji type\n",
    "if type(gen) is types.GeneratorType:\n",
    "    print(\"to jest generator!\")"
   ]
  },
  {
   "cell_type": "markdown",
   "metadata": {},
   "source": [
    "## Zadanie 3"
   ]
  },
  {
   "cell_type": "markdown",
   "metadata": {},
   "source": [
    "a) Napisz funkcję `zwroc_rosnace` która dostanie na wejsciu funkcje jednoargumentową oraz argumenty do niej a następnie zwróci te argumenty dla których wynik jest większy od argumentu."
   ]
  },
  {
   "cell_type": "code",
   "execution_count": 17,
   "metadata": {},
   "outputs": [
    {
     "name": "stdout",
     "output_type": "stream",
     "text": [
      "True\n",
      "True\n",
      "True\n"
     ]
    }
   ],
   "source": [
    "def zwroc_rosnace(f, *args):\n",
    "    return [arg for arg in args if f(arg)>arg]\n",
    "\n",
    "def f1(n):\n",
    "    return n**2-3*n\n",
    "\n",
    "def f2(n):\n",
    "    return 100-n\n",
    "\n",
    "def f3(word):\n",
    "    return word[::-1]\n",
    "\n",
    "print(zwroc_rosnace(f1, 4, 6, 2, -5)==[6, -5])\n",
    "print(zwroc_rosnace(f2, *range(100))==list(range(50)))\n",
    "print(zwroc_rosnace(f3, \"python\", \"nie\", \"jest\", \"bardzo\", \"fajny\")==['jest', 'bardzo', 'fajny'])"
   ]
  },
  {
   "cell_type": "markdown",
   "metadata": {},
   "source": [
    "b) Dopisz drugą, podobną funkcję która będzie zwracać argumenty których wyniki są większe od wyników poprzedniego argumentu"
   ]
  },
  {
   "cell_type": "code",
   "execution_count": 21,
   "metadata": {},
   "outputs": [
    {
     "name": "stdout",
     "output_type": "stream",
     "text": [
      "True\n",
      "True\n",
      "True\n"
     ]
    }
   ],
   "source": [
    "def zwroc_rosnace(f, *args):\n",
    "    return [arg for idx, arg in enumerate(args) if f(arg)>f(args[idx-1]) if idx>0]\n",
    "\n",
    "def f1(n):\n",
    "    return n**2-3*n\n",
    "\n",
    "def f2(n):\n",
    "    return 100-n\n",
    "\n",
    "def f3(word):\n",
    "    return word[::-1]\n",
    "\n",
    "print(zwroc_rosnace(f1, 4, -5, 6, 2)==[-5])\n",
    "print(zwroc_rosnace(f2, *range(100))==[])\n",
    "print(zwroc_rosnace(f3, \"python\", \"nie\", \"jest\", \"bardzo\", \"fajny\")==['jest', 'fajny'])"
   ]
  },
  {
   "cell_type": "markdown",
   "metadata": {},
   "source": [
    "## Zadanie 4"
   ]
  },
  {
   "cell_type": "markdown",
   "metadata": {},
   "source": [
    "Napisz funkcję która będzie zwracała który raz jest wywoływana"
   ]
  },
  {
   "cell_type": "code",
   "execution_count": 26,
   "metadata": {},
   "outputs": [
    {
     "name": "stdout",
     "output_type": "stream",
     "text": [
      "True\n",
      "True\n",
      "True\n"
     ]
    }
   ],
   "source": [
    "\n",
    "\n",
    "def ile_wywolana():\n",
    "    ile_wywolana.counter += 1\n",
    "    return ile_wywolana.counter\n",
    "\n",
    "ile_wywolana.counter = 0\n",
    "\n",
    "\n",
    "print(ile_wywolana()==1)\n",
    "print(ile_wywolana()==2)\n",
    "print(ile_wywolana()==3)"
   ]
  },
  {
   "cell_type": "markdown",
   "metadata": {},
   "source": [
    "## Zadanie 5"
   ]
  },
  {
   "cell_type": "markdown",
   "metadata": {},
   "source": [
    "Napisz generator zwracający nieskończony ciąg licz pierwszych"
   ]
  },
  {
   "cell_type": "code",
   "execution_count": 38,
   "metadata": {},
   "outputs": [
    {
     "name": "stdout",
     "output_type": "stream",
     "text": [
      "2\n",
      "3\n",
      "5\n",
      "7\n",
      "11\n",
      "13\n",
      "17\n",
      "19\n",
      "23\n",
      "29\n",
      "31\n",
      "37\n",
      "41\n",
      "43\n",
      "47\n",
      "53\n",
      "59\n",
      "61\n",
      "67\n",
      "71\n",
      "73\n",
      "79\n",
      "83\n",
      "89\n",
      "97\n"
     ]
    }
   ],
   "source": [
    "def get_primes(number):\n",
    "    for num in range(2, number):\n",
    "        is_prime = True\n",
    "        for i in range(2, num):\n",
    "            if num%i==0:\n",
    "                is_prime = False\n",
    "                break\n",
    "        if is_prime:\n",
    "            yield num\n",
    "\n",
    "\n",
    "for i in get_primes(100):\n",
    "    print(i)"
   ]
  },
  {
   "cell_type": "markdown",
   "metadata": {},
   "source": [
    "## Zadanie 6"
   ]
  },
  {
   "cell_type": "markdown",
   "metadata": {},
   "source": [
    "Uzupełnij definicje poniższych funkcji/generatorów."
   ]
  },
  {
   "cell_type": "code",
   "execution_count": 39,
   "metadata": {},
   "outputs": [
    {
     "name": "stdout",
     "output_type": "stream",
     "text": [
      "True\n",
      "0 True\n",
      "1 True\n",
      "2 True\n",
      "3 True\n",
      "4 True\n",
      "5 True\n",
      "6 True\n",
      "7 True\n",
      "8 True\n",
      "9 True\n",
      "10 True\n",
      "11 True\n",
      "12 True\n",
      "13 True\n",
      "14 True\n",
      "15 True\n",
      "16 True\n",
      "17 True\n",
      "18 True\n",
      "19 True\n",
      "20 True\n",
      "21 True\n",
      "0 True\n",
      "1 True\n",
      "2 True\n",
      "3 True\n",
      "4 True\n",
      "5 True\n",
      "6 True\n",
      "7 True\n",
      "8 True\n",
      "9 True\n",
      "10 True\n",
      "11 True\n",
      "12 True\n",
      "13 True\n",
      "14 True\n",
      "15 True\n",
      "16 True\n",
      "17 True\n",
      "18 True\n",
      "19 True\n",
      "20 True\n",
      "21 True\n"
     ]
    }
   ],
   "source": [
    "def natural_numbers(k=0):\n",
    "    \"\"\"Tworzy generator liczb naturalnych od liczby k\"\"\"\n",
    "    while True:\n",
    "        yield k\n",
    "        k += 1\n",
    "\n",
    "import types\n",
    "print(isinstance(natural_numbers(), types.GeneratorType))\n",
    "\n",
    "for i, n in enumerate(natural_numbers()):\n",
    "    print(i, i == n)\n",
    "    if i > 20:\n",
    "        break\n",
    "        \n",
    "for i, n in enumerate(natural_numbers(1)):\n",
    "    print(i, i+1 == n)\n",
    "    if i > 20:\n",
    "        break"
   ]
  },
  {
   "cell_type": "code",
   "execution_count": 46,
   "metadata": {},
   "outputs": [
    {
     "name": "stdout",
     "output_type": "stream",
     "text": [
      "True\n",
      "1 True\n",
      "1 True\n",
      "2 True\n",
      "6 True\n",
      "24 True\n",
      "120 True\n",
      "720 True\n",
      "5040 True\n"
     ]
    }
   ],
   "source": [
    "def factorials():\n",
    "    \"\"\"Tworzy generator kolejnych silnii\"\"\"\n",
    "    yield 1\n",
    "\n",
    "    result = 1\n",
    "    for i in natural_numbers(1):\n",
    "        result *= i\n",
    "        yield result\n",
    "\n",
    "import types\n",
    "print(isinstance(factorials(), types.GeneratorType))\n",
    "\n",
    "results = [1, 1, 2, 6, 24, 120, 720, 5040]\n",
    "for truth, answer in zip(results, factorials()):\n",
    "    print(truth, truth == answer)"
   ]
  },
  {
   "cell_type": "markdown",
   "metadata": {},
   "source": [
    "## Zadanie 7\n",
    "\n",
    "Napisz generator nieskończonego ciągu [liczb Fibonacciego](https://pl.wikipedia.org/wiki/Ci%C4%85g_Fibonacciego)."
   ]
  },
  {
   "cell_type": "code",
   "execution_count": 49,
   "metadata": {},
   "outputs": [
    {
     "name": "stdout",
     "output_type": "stream",
     "text": [
      "wyraz numer 0:  1\n",
      "wyraz numer 1:  1\n",
      "wyraz numer 2:  2\n",
      "wyraz numer 3:  3\n",
      "wyraz numer 4:  5\n",
      "wyraz numer 5:  8\n",
      "wyraz numer 6:  13\n",
      "wyraz numer 7:  21\n",
      "wyraz numer 8:  34\n",
      "wyraz numer 9:  55\n",
      "wyraz numer 10:  89\n",
      "wyraz numer 11:  144\n",
      "wyraz numer 12:  233\n",
      "wyraz numer 13:  377\n",
      "wyraz numer 14:  610\n",
      "wyraz numer 15:  987\n",
      "wyraz numer 16:  1597\n",
      "wyraz numer 17:  2584\n",
      "wyraz numer 18:  4181\n",
      "wyraz numer 19:  6765\n",
      "wyraz numer 20:  10946\n",
      "wyraz numer 21:  17711\n"
     ]
    }
   ],
   "source": [
    "def fibonacci():\n",
    "    \"\"\"Tworzy generator kolejnych liczb ciągu Fibonacciego\"\"\"\n",
    "    a, b = 1, 1\n",
    "    while True:\n",
    "        yield a\n",
    "        a, b = b, a+b\n",
    "\n",
    "for i, fib in enumerate(fibonacci()):\n",
    "    print(f'wyraz numer {i}: ', fib)\n",
    "    if i > 20:\n",
    "        break"
   ]
  },
  {
   "cell_type": "code",
   "execution_count": null,
   "metadata": {},
   "outputs": [],
   "source": []
  }
 ],
 "metadata": {
  "kernelspec": {
   "display_name": "base",
   "language": "python",
   "name": "python3"
  },
  "language_info": {
   "codemirror_mode": {
    "name": "ipython",
    "version": 3
   },
   "file_extension": ".py",
   "mimetype": "text/x-python",
   "name": "python",
   "nbconvert_exporter": "python",
   "pygments_lexer": "ipython3",
   "version": "3.11.5"
  }
 },
 "nbformat": 4,
 "nbformat_minor": 2
}
